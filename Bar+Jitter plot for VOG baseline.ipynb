{
 "cells": [
  {
   "cell_type": "markdown",
   "metadata": {},
   "source": [
    "\n"
   ]
  },
  {
   "cell_type": "markdown",
   "metadata": {},
   "source": [
    "## Generating Bar+Jitter plot using VOG Baseline data\n",
    "\n",
    "### Loading Packages that we are going to use in this analysis \n",
    "\n",
    "**ggplot** and **ggpubr** are used for visualizing our data. **tidyverse** is a specialized package for managing data-set. **Rmisc** is used for calculating descriptive statistics.\n"
   ]
  },
  {
   "cell_type": "code",
   "execution_count": 2,
   "metadata": {},
   "outputs": [],
   "source": [
    "library(ggplot2)\n",
    "library(tidyverse)\n",
    "library(Rmisc)\n",
    "library(ggpubr)\n"
   ]
  },
  {
   "cell_type": "markdown",
   "metadata": {},
   "source": [
    "### Import dataset\n",
    "First, it is necessary to import a dataset from the clipboard. After importing, we will give new column names to the data set and convert two attributes as a factor.   \n"
   ]
  },
  {
   "cell_type": "code",
   "execution_count": 3,
   "metadata": {},
   "outputs": [
    {
     "data": {
      "text/html": [
       "<table>\n",
       "<caption>A data.frame: 6 × 5</caption>\n",
       "<thead>\n",
       "\t<tr><th></th><th scope=col>AnimalID</th><th scope=col>Gain</th><th scope=col>Genotype</th><th scope=col>Freq</th><th scope=col>FreqGenotype</th></tr>\n",
       "\t<tr><th></th><th scope=col>&lt;fct&gt;</th><th scope=col>&lt;dbl&gt;</th><th scope=col>&lt;ord&gt;</th><th scope=col>&lt;ord&gt;</th><th scope=col>&lt;fct&gt;</th></tr>\n",
       "</thead>\n",
       "<tbody>\n",
       "\t<tr><th scope=row>1</th><td>BS_585_WT</td><td>0.238</td><td>WT</td><td>0.1</td><td>0.1.WT</td></tr>\n",
       "\t<tr><th scope=row>2</th><td>BS_586_WT</td><td>0.075</td><td>WT</td><td>0.1</td><td>0.1.WT</td></tr>\n",
       "\t<tr><th scope=row>3</th><td>BS_590_WT</td><td>0.243</td><td>WT</td><td>0.1</td><td>0.1.WT</td></tr>\n",
       "\t<tr><th scope=row>4</th><td>BS_310_WT</td><td>0.267</td><td>WT</td><td>0.1</td><td>0.1.WT</td></tr>\n",
       "\t<tr><th scope=row>5</th><td>BS_311_WT</td><td>0.150</td><td>WT</td><td>0.1</td><td>0.1.WT</td></tr>\n",
       "\t<tr><th scope=row>6</th><td>BS_312_WT</td><td>0.275</td><td>WT</td><td>0.1</td><td>0.1.WT</td></tr>\n",
       "</tbody>\n",
       "</table>\n"
      ],
      "text/latex": [
       "A data.frame: 6 × 5\n",
       "\\begin{tabular}{r|lllll}\n",
       "  & AnimalID & Gain & Genotype & Freq & FreqGenotype\\\\\n",
       "  & <fct> & <dbl> & <ord> & <ord> & <fct>\\\\\n",
       "\\hline\n",
       "\t1 & BS\\_585\\_WT & 0.238 & WT & 0.1 & 0.1.WT\\\\\n",
       "\t2 & BS\\_586\\_WT & 0.075 & WT & 0.1 & 0.1.WT\\\\\n",
       "\t3 & BS\\_590\\_WT & 0.243 & WT & 0.1 & 0.1.WT\\\\\n",
       "\t4 & BS\\_310\\_WT & 0.267 & WT & 0.1 & 0.1.WT\\\\\n",
       "\t5 & BS\\_311\\_WT & 0.150 & WT & 0.1 & 0.1.WT\\\\\n",
       "\t6 & BS\\_312\\_WT & 0.275 & WT & 0.1 & 0.1.WT\\\\\n",
       "\\end{tabular}\n"
      ],
      "text/markdown": [
       "\n",
       "A data.frame: 6 × 5\n",
       "\n",
       "| <!--/--> | AnimalID &lt;fct&gt; | Gain &lt;dbl&gt; | Genotype &lt;ord&gt; | Freq &lt;ord&gt; | FreqGenotype &lt;fct&gt; |\n",
       "|---|---|---|---|---|---|\n",
       "| 1 | BS_585_WT | 0.238 | WT | 0.1 | 0.1.WT |\n",
       "| 2 | BS_586_WT | 0.075 | WT | 0.1 | 0.1.WT |\n",
       "| 3 | BS_590_WT | 0.243 | WT | 0.1 | 0.1.WT |\n",
       "| 4 | BS_310_WT | 0.267 | WT | 0.1 | 0.1.WT |\n",
       "| 5 | BS_311_WT | 0.150 | WT | 0.1 | 0.1.WT |\n",
       "| 6 | BS_312_WT | 0.275 | WT | 0.1 | 0.1.WT |\n",
       "\n"
      ],
      "text/plain": [
       "  AnimalID  Gain  Genotype Freq FreqGenotype\n",
       "1 BS_585_WT 0.238 WT       0.1  0.1.WT      \n",
       "2 BS_586_WT 0.075 WT       0.1  0.1.WT      \n",
       "3 BS_590_WT 0.243 WT       0.1  0.1.WT      \n",
       "4 BS_310_WT 0.267 WT       0.1  0.1.WT      \n",
       "5 BS_311_WT 0.150 WT       0.1  0.1.WT      \n",
       "6 BS_312_WT 0.275 WT       0.1  0.1.WT      "
      ]
     },
     "metadata": {},
     "output_type": "display_data"
    }
   ],
   "source": [
    "Gain.table <- read.delim(\"clipboard\", header= F)\n",
    "colnames(Gain.table) <- c(\"AnimalID\", \"Gain\", \"Genotype\", \"Freq\")\n",
    "Gain.table$Freq <- factor(Gain.table$Freq, levels=c(0.1, 0.25, 0.5, 1.0), order=T)\n",
    "Gain.table$Genotype <- factor(Gain.table$Genotype, levels=c(\"WT\", \"Het\"), order=T)\n",
    "Gain.table$FreqGenotype <- interaction(Gain.table$Freq, Gain.table$Genotype)\n",
    "head(Gain.table)\n"
   ]
  },
  {
   "cell_type": "markdown",
   "metadata": {},
   "source": [
    "### Summarize the dataset\n",
    "\n"
   ]
  },
  {
   "cell_type": "code",
   "execution_count": 4,
   "metadata": {},
   "outputs": [
    {
     "data": {
      "text/html": [
       "<table>\n",
       "<caption>A data.frame: 8 × 7</caption>\n",
       "<thead>\n",
       "\t<tr><th scope=col>Freq</th><th scope=col>Genotype</th><th scope=col>N</th><th scope=col>Gain</th><th scope=col>sd</th><th scope=col>se</th><th scope=col>ci</th></tr>\n",
       "\t<tr><th scope=col>&lt;ord&gt;</th><th scope=col>&lt;ord&gt;</th><th scope=col>&lt;dbl&gt;</th><th scope=col>&lt;dbl&gt;</th><th scope=col>&lt;dbl&gt;</th><th scope=col>&lt;dbl&gt;</th><th scope=col>&lt;dbl&gt;</th></tr>\n",
       "</thead>\n",
       "<tbody>\n",
       "\t<tr><td>0.1 </td><td>WT </td><td>19</td><td>0.2414211</td><td>0.08801472</td><td>0.02019196</td><td>0.04242174</td></tr>\n",
       "\t<tr><td>0.1 </td><td>Het</td><td>15</td><td>0.2500667</td><td>0.06972340</td><td>0.01800250</td><td>0.03861153</td></tr>\n",
       "\t<tr><td>0.25</td><td>WT </td><td>19</td><td>0.3544211</td><td>0.10703131</td><td>0.02455467</td><td>0.05158744</td></tr>\n",
       "\t<tr><td>0.25</td><td>Het</td><td>15</td><td>0.3389333</td><td>0.07999327</td><td>0.02065417</td><td>0.04429880</td></tr>\n",
       "\t<tr><td>0.5 </td><td>WT </td><td>19</td><td>0.5814211</td><td>0.10595928</td><td>0.02430873</td><td>0.05107074</td></tr>\n",
       "\t<tr><td>0.5 </td><td>Het</td><td>15</td><td>0.5608000</td><td>0.08518400</td><td>0.02199441</td><td>0.04717333</td></tr>\n",
       "\t<tr><td>1   </td><td>WT </td><td>19</td><td>0.7242105</td><td>0.11174553</td><td>0.02563618</td><td>0.05385962</td></tr>\n",
       "\t<tr><td>1   </td><td>Het</td><td>15</td><td>0.7150000</td><td>0.07056810</td><td>0.01822061</td><td>0.03907931</td></tr>\n",
       "</tbody>\n",
       "</table>\n"
      ],
      "text/latex": [
       "A data.frame: 8 × 7\n",
       "\\begin{tabular}{lllllll}\n",
       " Freq & Genotype & N & Gain & sd & se & ci\\\\\n",
       " <ord> & <ord> & <dbl> & <dbl> & <dbl> & <dbl> & <dbl>\\\\\n",
       "\\hline\n",
       "\t 0.1  & WT  & 19 & 0.2414211 & 0.08801472 & 0.02019196 & 0.04242174\\\\\n",
       "\t 0.1  & Het & 15 & 0.2500667 & 0.06972340 & 0.01800250 & 0.03861153\\\\\n",
       "\t 0.25 & WT  & 19 & 0.3544211 & 0.10703131 & 0.02455467 & 0.05158744\\\\\n",
       "\t 0.25 & Het & 15 & 0.3389333 & 0.07999327 & 0.02065417 & 0.04429880\\\\\n",
       "\t 0.5  & WT  & 19 & 0.5814211 & 0.10595928 & 0.02430873 & 0.05107074\\\\\n",
       "\t 0.5  & Het & 15 & 0.5608000 & 0.08518400 & 0.02199441 & 0.04717333\\\\\n",
       "\t 1    & WT  & 19 & 0.7242105 & 0.11174553 & 0.02563618 & 0.05385962\\\\\n",
       "\t 1    & Het & 15 & 0.7150000 & 0.07056810 & 0.01822061 & 0.03907931\\\\\n",
       "\\end{tabular}\n"
      ],
      "text/markdown": [
       "\n",
       "A data.frame: 8 × 7\n",
       "\n",
       "| Freq &lt;ord&gt; | Genotype &lt;ord&gt; | N &lt;dbl&gt; | Gain &lt;dbl&gt; | sd &lt;dbl&gt; | se &lt;dbl&gt; | ci &lt;dbl&gt; |\n",
       "|---|---|---|---|---|---|---|\n",
       "| 0.1  | WT  | 19 | 0.2414211 | 0.08801472 | 0.02019196 | 0.04242174 |\n",
       "| 0.1  | Het | 15 | 0.2500667 | 0.06972340 | 0.01800250 | 0.03861153 |\n",
       "| 0.25 | WT  | 19 | 0.3544211 | 0.10703131 | 0.02455467 | 0.05158744 |\n",
       "| 0.25 | Het | 15 | 0.3389333 | 0.07999327 | 0.02065417 | 0.04429880 |\n",
       "| 0.5  | WT  | 19 | 0.5814211 | 0.10595928 | 0.02430873 | 0.05107074 |\n",
       "| 0.5  | Het | 15 | 0.5608000 | 0.08518400 | 0.02199441 | 0.04717333 |\n",
       "| 1    | WT  | 19 | 0.7242105 | 0.11174553 | 0.02563618 | 0.05385962 |\n",
       "| 1    | Het | 15 | 0.7150000 | 0.07056810 | 0.01822061 | 0.03907931 |\n",
       "\n"
      ],
      "text/plain": [
       "  Freq Genotype N  Gain      sd         se         ci        \n",
       "1 0.1  WT       19 0.2414211 0.08801472 0.02019196 0.04242174\n",
       "2 0.1  Het      15 0.2500667 0.06972340 0.01800250 0.03861153\n",
       "3 0.25 WT       19 0.3544211 0.10703131 0.02455467 0.05158744\n",
       "4 0.25 Het      15 0.3389333 0.07999327 0.02065417 0.04429880\n",
       "5 0.5  WT       19 0.5814211 0.10595928 0.02430873 0.05107074\n",
       "6 0.5  Het      15 0.5608000 0.08518400 0.02199441 0.04717333\n",
       "7 1    WT       19 0.7242105 0.11174553 0.02563618 0.05385962\n",
       "8 1    Het      15 0.7150000 0.07056810 0.01822061 0.03907931"
      ]
     },
     "metadata": {},
     "output_type": "display_data"
    }
   ],
   "source": [
    "Gain.table.s <- summarySE(Gain.table, measurevar = \"Gain\", groupvars = c(\"Freq\", \"Genotype\"))\n",
    "Gain.table.s\n"
   ]
  },
  {
   "cell_type": "markdown",
   "metadata": {},
   "source": [
    "### Generate Bar plot\n",
    "Stimulus frequency should be converted from numeric value to factor.\n"
   ]
  },
  {
   "cell_type": "code",
   "execution_count": 5,
   "metadata": {},
   "outputs": [
    {
     "data": {
      "text/html": [
       "<table>\n",
       "<caption>A data.frame: 8 × 7</caption>\n",
       "<thead>\n",
       "\t<tr><th scope=col>Freq</th><th scope=col>Genotype</th><th scope=col>N</th><th scope=col>Gain</th><th scope=col>sd</th><th scope=col>se</th><th scope=col>ci</th></tr>\n",
       "\t<tr><th scope=col>&lt;ord&gt;</th><th scope=col>&lt;ord&gt;</th><th scope=col>&lt;dbl&gt;</th><th scope=col>&lt;dbl&gt;</th><th scope=col>&lt;dbl&gt;</th><th scope=col>&lt;dbl&gt;</th><th scope=col>&lt;dbl&gt;</th></tr>\n",
       "</thead>\n",
       "<tbody>\n",
       "\t<tr><td>0.1 </td><td>WT </td><td>19</td><td>0.2414211</td><td>0.08801472</td><td>0.02019196</td><td>0.04242174</td></tr>\n",
       "\t<tr><td>0.1 </td><td>Het</td><td>15</td><td>0.2500667</td><td>0.06972340</td><td>0.01800250</td><td>0.03861153</td></tr>\n",
       "\t<tr><td>0.25</td><td>WT </td><td>19</td><td>0.3544211</td><td>0.10703131</td><td>0.02455467</td><td>0.05158744</td></tr>\n",
       "\t<tr><td>0.25</td><td>Het</td><td>15</td><td>0.3389333</td><td>0.07999327</td><td>0.02065417</td><td>0.04429880</td></tr>\n",
       "\t<tr><td>0.5 </td><td>WT </td><td>19</td><td>0.5814211</td><td>0.10595928</td><td>0.02430873</td><td>0.05107074</td></tr>\n",
       "\t<tr><td>0.5 </td><td>Het</td><td>15</td><td>0.5608000</td><td>0.08518400</td><td>0.02199441</td><td>0.04717333</td></tr>\n",
       "\t<tr><td>1   </td><td>WT </td><td>19</td><td>0.7242105</td><td>0.11174553</td><td>0.02563618</td><td>0.05385962</td></tr>\n",
       "\t<tr><td>1   </td><td>Het</td><td>15</td><td>0.7150000</td><td>0.07056810</td><td>0.01822061</td><td>0.03907931</td></tr>\n",
       "</tbody>\n",
       "</table>\n"
      ],
      "text/latex": [
       "A data.frame: 8 × 7\n",
       "\\begin{tabular}{lllllll}\n",
       " Freq & Genotype & N & Gain & sd & se & ci\\\\\n",
       " <ord> & <ord> & <dbl> & <dbl> & <dbl> & <dbl> & <dbl>\\\\\n",
       "\\hline\n",
       "\t 0.1  & WT  & 19 & 0.2414211 & 0.08801472 & 0.02019196 & 0.04242174\\\\\n",
       "\t 0.1  & Het & 15 & 0.2500667 & 0.06972340 & 0.01800250 & 0.03861153\\\\\n",
       "\t 0.25 & WT  & 19 & 0.3544211 & 0.10703131 & 0.02455467 & 0.05158744\\\\\n",
       "\t 0.25 & Het & 15 & 0.3389333 & 0.07999327 & 0.02065417 & 0.04429880\\\\\n",
       "\t 0.5  & WT  & 19 & 0.5814211 & 0.10595928 & 0.02430873 & 0.05107074\\\\\n",
       "\t 0.5  & Het & 15 & 0.5608000 & 0.08518400 & 0.02199441 & 0.04717333\\\\\n",
       "\t 1    & WT  & 19 & 0.7242105 & 0.11174553 & 0.02563618 & 0.05385962\\\\\n",
       "\t 1    & Het & 15 & 0.7150000 & 0.07056810 & 0.01822061 & 0.03907931\\\\\n",
       "\\end{tabular}\n"
      ],
      "text/markdown": [
       "\n",
       "A data.frame: 8 × 7\n",
       "\n",
       "| Freq &lt;ord&gt; | Genotype &lt;ord&gt; | N &lt;dbl&gt; | Gain &lt;dbl&gt; | sd &lt;dbl&gt; | se &lt;dbl&gt; | ci &lt;dbl&gt; |\n",
       "|---|---|---|---|---|---|---|\n",
       "| 0.1  | WT  | 19 | 0.2414211 | 0.08801472 | 0.02019196 | 0.04242174 |\n",
       "| 0.1  | Het | 15 | 0.2500667 | 0.06972340 | 0.01800250 | 0.03861153 |\n",
       "| 0.25 | WT  | 19 | 0.3544211 | 0.10703131 | 0.02455467 | 0.05158744 |\n",
       "| 0.25 | Het | 15 | 0.3389333 | 0.07999327 | 0.02065417 | 0.04429880 |\n",
       "| 0.5  | WT  | 19 | 0.5814211 | 0.10595928 | 0.02430873 | 0.05107074 |\n",
       "| 0.5  | Het | 15 | 0.5608000 | 0.08518400 | 0.02199441 | 0.04717333 |\n",
       "| 1    | WT  | 19 | 0.7242105 | 0.11174553 | 0.02563618 | 0.05385962 |\n",
       "| 1    | Het | 15 | 0.7150000 | 0.07056810 | 0.01822061 | 0.03907931 |\n",
       "\n"
      ],
      "text/plain": [
       "  Freq Genotype N  Gain      sd         se         ci        \n",
       "1 0.1  WT       19 0.2414211 0.08801472 0.02019196 0.04242174\n",
       "2 0.1  Het      15 0.2500667 0.06972340 0.01800250 0.03861153\n",
       "3 0.25 WT       19 0.3544211 0.10703131 0.02455467 0.05158744\n",
       "4 0.25 Het      15 0.3389333 0.07999327 0.02065417 0.04429880\n",
       "5 0.5  WT       19 0.5814211 0.10595928 0.02430873 0.05107074\n",
       "6 0.5  Het      15 0.5608000 0.08518400 0.02199441 0.04717333\n",
       "7 1    WT       19 0.7242105 0.11174553 0.02563618 0.05385962\n",
       "8 1    Het      15 0.7150000 0.07056810 0.01822061 0.03907931"
      ]
     },
     "metadata": {},
     "output_type": "display_data"
    }
   ],
   "source": [
    "Gain.table.s2 <- Gain.table.s\n",
    "Gain.table.s2$Freq <- factor(Gain.table.s$Freq)\n",
    "Gain.table.s2\n"
   ]
  },
  {
   "cell_type": "markdown",
   "metadata": {},
   "source": [
    "\n",
    "### Generate simple barplot (mean+sem)\n"
   ]
  },
  {
   "cell_type": "code",
   "execution_count": 6,
   "metadata": {},
   "outputs": [
    {
     "data": {
      "image/png": "[encoded data removed]",
      "text/plain": [
       "plot without title"
      ]
     },
     "metadata": {
      "image/png": {
       "height": 420,
       "width": 420
      }
     },
     "output_type": "display_data"
    }
   ],
   "source": [
    "bar <- ggplot(Gain.table.s2, aes(x=Freq, y=Gain, fill=Genotype))\n",
    "bar + geom_bar(stat=\"identity\", \n",
    "               position=\"dodge\")+ \n",
    "  geom_errorbar(aes(ymin=Gain-se, ymax=Gain+se), \n",
    "                width=0.2, \n",
    "                position=position_dodge(0.9))\n"
   ]
  },
  {
   "cell_type": "markdown",
   "metadata": {},
   "source": [
    "\n",
    "### Generate boxplot+dotplot\n"
   ]
  },
  {
   "cell_type": "code",
   "execution_count": 7,
   "metadata": {},
   "outputs": [
    {
     "name": "stderr",
     "output_type": "stream",
     "text": [
      "`stat_bindot()` using `bins = 30`. Pick better value with `binwidth`.\n",
      "\n"
     ]
    },
    {
     "data": {
      "image/png": "[encoded data removed]",
      "text/plain": [
       "plot without title"
      ]
     },
     "metadata": {
      "image/png": {
       "height": 420,
       "width": 420
      }
     },
     "output_type": "display_data"
    }
   ],
   "source": [
    "ggplot(aes(y=Gain, x=Freq, fill=Genotype), data=Gain.table)+ \n",
    "  geom_boxplot() + \n",
    "  geom_dotplot(binaxis='y', \n",
    "               stackdir='center', \n",
    "               dotsize=.5, \n",
    "               position=position_dodge(0.75))\n"
   ]
  },
  {
   "cell_type": "markdown",
   "metadata": {},
   "source": [
    "### Generate barplot+Jitterplot\n"
   ]
  },
  {
   "cell_type": "code",
   "execution_count": 8,
   "metadata": {},
   "outputs": [],
   "source": [
    "p <- ggbarplot(Gain.table, \n",
    "          x=\"Freq\", \n",
    "          y=\"Gain\",\n",
    "          xlab=\"Frequency (Hz)\",\n",
    "          ylab=\"Gain\",\n",
    "          ylim=c(0,1.0),\n",
    "          width = 0.7,\n",
    "          add = c(\"mean_se\", \"jitter\"), \n",
    "          color=\"Genotype\",\n",
    "          palette=c(\"blue\", \"red\"),\n",
    "          position = position_dodge(0.8))\n"
   ]
  },
  {
   "cell_type": "markdown",
   "metadata": {},
   "source": [
    "\n"
   ]
  },
  {
   "cell_type": "code",
   "execution_count": 9,
   "metadata": {},
   "outputs": [
    {
     "data": {
      "image/png": "[encoded data removed]",
      "text/plain": [
       "plot without title"
      ]
     },
     "metadata": {
      "image/png": {
       "height": 420,
       "width": 420
      }
     },
     "output_type": "display_data"
    }
   ],
   "source": [
    "ggplot(Gain.table, \n",
    "       aes(x=Freq, y=Gain)) + \n",
    "  geom_jitter(aes(color=Genotype),\n",
    "              position=position_jitter(0.2)) +\n",
    "  scale_color_manual(values=c(\"blue\", \"red\"))\n"
   ]
  },
  {
   "cell_type": "markdown",
   "metadata": {},
   "source": [
    "\n",
    "### Perform hypothesis testing\n"
   ]
  },
  {
   "cell_type": "code",
   "execution_count": 10,
   "metadata": {},
   "outputs": [
    {
     "data": {
      "text/html": [
       "<table>\n",
       "<caption>A tibble: 4 × 9</caption>\n",
       "<thead>\n",
       "\t<tr><th scope=col>Freq</th><th scope=col>.y.</th><th scope=col>group1</th><th scope=col>group2</th><th scope=col>p</th><th scope=col>p.adj</th><th scope=col>p.format</th><th scope=col>p.signif</th><th scope=col>method</th></tr>\n",
       "\t<tr><th scope=col>&lt;ord&gt;</th><th scope=col>&lt;chr&gt;</th><th scope=col>&lt;chr&gt;</th><th scope=col>&lt;chr&gt;</th><th scope=col>&lt;dbl&gt;</th><th scope=col>&lt;dbl&gt;</th><th scope=col>&lt;chr&gt;</th><th scope=col>&lt;chr&gt;</th><th scope=col>&lt;chr&gt;</th></tr>\n",
       "</thead>\n",
       "<tbody>\n",
       "\t<tr><td>0.1 </td><td>Gain</td><td>WT</td><td>Het</td><td>0.7513539</td><td>1</td><td>0.75</td><td>ns</td><td>T-test</td></tr>\n",
       "\t<tr><td>0.25</td><td>Gain</td><td>WT</td><td>Het</td><td>0.6326085</td><td>1</td><td>0.63</td><td>ns</td><td>T-test</td></tr>\n",
       "\t<tr><td>0.5 </td><td>Gain</td><td>WT</td><td>Het</td><td>0.5337953</td><td>1</td><td>0.53</td><td>ns</td><td>T-test</td></tr>\n",
       "\t<tr><td>1   </td><td>Gain</td><td>WT</td><td>Het</td><td>0.7716088</td><td>1</td><td>0.77</td><td>ns</td><td>T-test</td></tr>\n",
       "</tbody>\n",
       "</table>\n"
      ],
      "text/latex": [
       "A tibble: 4 × 9\n",
       "\\begin{tabular}{lllllllll}\n",
       " Freq & .y. & group1 & group2 & p & p.adj & p.format & p.signif & method\\\\\n",
       " <ord> & <chr> & <chr> & <chr> & <dbl> & <dbl> & <chr> & <chr> & <chr>\\\\\n",
       "\\hline\n",
       "\t 0.1  & Gain & WT & Het & 0.7513539 & 1 & 0.75 & ns & T-test\\\\\n",
       "\t 0.25 & Gain & WT & Het & 0.6326085 & 1 & 0.63 & ns & T-test\\\\\n",
       "\t 0.5  & Gain & WT & Het & 0.5337953 & 1 & 0.53 & ns & T-test\\\\\n",
       "\t 1    & Gain & WT & Het & 0.7716088 & 1 & 0.77 & ns & T-test\\\\\n",
       "\\end{tabular}\n"
      ],
      "text/markdown": [
       "\n",
       "A tibble: 4 × 9\n",
       "\n",
       "| Freq &lt;ord&gt; | .y. &lt;chr&gt; | group1 &lt;chr&gt; | group2 &lt;chr&gt; | p &lt;dbl&gt; | p.adj &lt;dbl&gt; | p.format &lt;chr&gt; | p.signif &lt;chr&gt; | method &lt;chr&gt; |\n",
       "|---|---|---|---|---|---|---|---|---|\n",
       "| 0.1  | Gain | WT | Het | 0.7513539 | 1 | 0.75 | ns | T-test |\n",
       "| 0.25 | Gain | WT | Het | 0.6326085 | 1 | 0.63 | ns | T-test |\n",
       "| 0.5  | Gain | WT | Het | 0.5337953 | 1 | 0.53 | ns | T-test |\n",
       "| 1    | Gain | WT | Het | 0.7716088 | 1 | 0.77 | ns | T-test |\n",
       "\n"
      ],
      "text/plain": [
       "  Freq .y.  group1 group2 p         p.adj p.format p.signif method\n",
       "1 0.1  Gain WT     Het    0.7513539 1     0.75     ns       T-test\n",
       "2 0.25 Gain WT     Het    0.6326085 1     0.63     ns       T-test\n",
       "3 0.5  Gain WT     Het    0.5337953 1     0.53     ns       T-test\n",
       "4 1    Gain WT     Het    0.7716088 1     0.77     ns       T-test"
      ]
     },
     "metadata": {},
     "output_type": "display_data"
    }
   ],
   "source": [
    "compare_means(Gain~Genotype, group.by=\"Freq\", data=Gain.table, method=\"t.test\")\n",
    "\n"
   ]
  },
  {
   "cell_type": "markdown",
   "metadata": {},
   "source": [
    "### Add p-values and significance levels\n"
   ]
  },
  {
   "cell_type": "code",
   "execution_count": 11,
   "metadata": {},
   "outputs": [
    {
     "data": {
      "image/png": "[encoded data removed]",
      "text/plain": [
       "plot without title"
      ]
     },
     "metadata": {
      "image/png": {
       "height": 420,
       "width": 420
      }
     },
     "output_type": "display_data"
    }
   ],
   "source": [
    "p + stat_compare_means(aes(group=Genotype), label=\"p.signif\")\n",
    "\n"
   ]
  },
  {
   "cell_type": "markdown",
   "metadata": {},
   "source": [
    "\n",
    "\n"
   ]
  }
 ],
 "metadata": {
  "anaconda-cloud": "",
  "kernelspec": {
   "display_name": "R",
   "language": "R",
   "name": "ir"
  },
  "language_info": {
   "codemirror_mode": "r",
   "file_extension": ".r",
   "mimetype": "text/x-r-source",
   "name": "R",
   "pygments_lexer": "r",
   "version": "3.6.3"
  }
 },
 "nbformat": 4,
 "nbformat_minor": 1
}
